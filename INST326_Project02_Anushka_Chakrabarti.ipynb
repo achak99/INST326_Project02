{
 "cells": [
  {
   "cell_type": "markdown",
   "id": "bc00dbc1",
   "metadata": {},
   "source": [
    "### Project 02: Create a GUI Notebook Program"
   ]
  },
  {
   "cell_type": "markdown",
   "id": "b3f87ffb",
   "metadata": {},
   "source": [
    "Anushka Chakrabarti, Vanessa Huang, Musab Ali, Johannes Tsigea"
   ]
  },
  {
   "cell_type": "markdown",
   "id": "62110c98",
   "metadata": {},
   "source": [
    "Project 2 will adapt the procedural code we have been working on in INST326_SimpleGUI_Note_Form_IO.ipynb to create an OOP version of the program using three classes.\n",
    "\n",
    "    A Notebook or MainWindow class\n",
    "    A Form or TopWindow class\n",
    "    A Note class\n",
    "\n",
    "The MainWindow class is a subclass of Tkinter’s tk.Tk class and thus inherits its attributes and methods, while allowing us to customize the new window objects to our needs. These new window objects will represent “notebooks” or collections of notes, and allow us to work with those notes. (I have named it MainWindow because this class definition could be used to create any kind of main window in Tkinter. We are using it to represent notebooks in this application, but you might use it for other purposes in onther applications.)\n"
   ]
  },
  {
   "cell_type": "markdown",
   "id": "67692272",
   "metadata": {},
   "source": [
    "The TopWindow class creates a new top window in Tkinter, which is essentially a form for entering the title, text, links, and tags for our note. When we submit the note, this “form” object has a method that creates the note’s metadata and a new Note object. That note object is appended to the list of all notes, which is an attribute of the notebook (MainWindow) class.\n",
    "The Note class creates note objects that contain the  title, text, links, tags, and metadata for each note.\n",
    "\n",
    "For Project 02 you will:  \n",
    "\n",
    "    1. Create one notebook or MainWindow object  \n",
    "    2. Create several (at least 3) ‘real’ notes for your final submission. By ‘real’ I mean actual notes about python that are useful to you. Print them in the cell at the bottom of the notebook.\n",
    "    3. Save those notes to a single .txt, .csv, or .json file (your choice of format).  \n",
    "    4. Retrieve those notes and \n",
    "    5. Display representations of them as either labels or buttons in the  main window (remember how we displayed cards in project 01). These representations are not whole notes. Rather, they are object representations of the notes.  \n",
    "    6. When they are clicked the whole note pops up in a new window - either the form window or a ‘read-only’ version of the form window.\n",
    "\n"
   ]
  },
  {
   "cell_type": "markdown",
   "id": "cd7630c0",
   "metadata": {},
   "source": [
    "#### Complete your code in the cell below"
   ]
  },
  {
   "cell_type": "markdown",
   "id": "50f0a965",
   "metadata": {},
   "source": [
    "The code cell below contains the imports you will need; the top level structure for the three classes to get you started; and the execution code at the bottom. "
   ]
  },
  {
   "cell_type": "code",
   "execution_count": 7,
   "id": "57954c28",
   "metadata": {},
   "outputs": [],
   "source": [
    "# imports\n",
    "import tkinter as tk\n",
    "from tkinter import ttk\n",
    "from tkinter import filedialog\n",
    "import datetime # one module for working with dates and times\n",
    "\n",
    "\n",
    class MainWindow(tk.Tk):
    def __init__(self):  #initialize the main window
        super().__init__() # initialize it as a tkinter window
        
        self.geometry("600x400") # set the default window size
        self.title('Notebook') #set the default window title
        self.notebook = [] # initialize an attribute named 'notebook' as an empty list
        self.notes = []        

        # add additionallines to the __init__() function
        self.new_button = ttk.Button(self, text="New Note", command=self.new_note)
        self.new_button.pack(side=tk.LEFT, padx=5, pady=5)
        
        self.open_button = ttk.Button(self, text="Open Notebook", command=self.open_notebook)
        self.open_button.pack(side=tk.LEFT, padx=5, pady=5)
        
        self.save_button = ttk.Button(self, text="Save Notebook", command=self.save_notebook)
        self.save_button.pack(side=tk.LEFT, padx=5, pady=5)
        
    def new_note(self):
        note_window = NoteForm(self, self.notebook, self.notes)
        return None

    def open_notebook(self):
        print('open notebook')

        filename = tk.filedialog.askopenfilename(title="Open Notebook", filetypes=(("Text files", "*.txt"), ("All files", "*.*")))
        if filename:
            with open(filename, 'r') as file:
                for line in file:
                    title, text, link, tags, meta = line.strip().split(',')
                    new_note = MakeNote({
                        "title": title,
                        "text": text,
                        "link": link,
                        "tags": tags,
                        "meta": meta
                    })
                    self.notes.append(new_note)
            self.display_notes()
            return None

    def save_notebook(self):
        print('save notebook')
        filename = tk.filedialog.asksaveasfilename(title="Save Notebook", defaultextension=".txt", filetypes=(("Text files", "*.txt"), ("All files", "*.*")))

        if filename:
            try:
                with open(filename, 'w') as file:
                    for note in self.notes:
                        file.write(f"{note.title},{note.text},{note.link},{note.tags},{note.meta}\n")
            except Exception as e:
                print("Error occurred while saving the notebook:", e)
                print("Notebook saved successfully.")
        return None

    def display_notes(self):
        for note in self.notes:
            print(f"Title: {note.title}")
            print(f"Text: {note.text}")
            print(f"Link: {note.link}")
            print(f"Tags: {note.tags}")
            print(f"Meta: {note.meta}\n") 


class NoteForm(tk.Toplevel):
    
    def __init__(self, master, notebook, notes):
        super().__init__(master)
        self.notebook = notebook
        self.notes = notes
        self.title("New Note")
        
        self.title_label = ttk.Label(self, text="Title:")
        self.title_label.pack()
        self.title_entry = ttk.Entry(self)
        self.title_entry.pack()
        
        self.text_label = ttk.Label(self, text="Text:")
        self.text_label.pack()
        self.text_entry = tk.Text(self, height=10, width=50)
        self.text_entry.pack()
        
        self.link_label = ttk.Label(self, text="Link:")
        self.link_label.pack()
        self.link_entry = ttk.Entry(self)
        self.link_entry.pack()
        
        self.tags_label = ttk.Label(self, text="Tags:")
        self.tags_label.pack()
        self.tags_entry = ttk.Entry(self)
        self.tags_entry.pack()
        
        self.submit_button = ttk.Button(self, text="Submit", command=self.submit)
        self.submit_button.pack()
        
    def submit(self):
        title = self.title_entry.get()
        text = self.text_entry.get("1.0", tk.END)
        link = self.link_entry.get()
        tags = self.tags_entry.get()
        meta = datetime.datetime.now().strftime("%Y-%m-%d %H:%M:%S")
        
        note_dict = {
            "title": title,
            "text": text,
            "link": link,
            "tags": tags,
            "meta": meta,
            "edit_history": []  # Adding a new attribute for edit history
        }
        
        new_note = MakeNote(note_dict)
        self.notes.append(new_note)
        print(self.notes)
        return None

    

class MakeNote():
    def __init__(self, note_dict):
        self.title = note_dict["title"]
        self.text = note_dict["text"]
        self.link = note_dict["link"]
        self.tags = note_dict["tags"]
        self.meta = note_dict["meta"]
        self.edit_history = note_dict.get("edit_history", [])  # Retrieving edit history if provided

class SnippetForm(tk.Toplevel):
    
    def __init__(self, master, notebook, snippets):
        super().__init__(master)
        self.notebook = notebook
        self.snippets = snippets
        self.title("New Snippet")
        
        self.title_label = ttk.Label(self, text="Title:")
        self.title_label.pack()
        self.title_entry = ttk.Entry(self)
        self.title_entry.pack()
        
        self.code_label = ttk.Label(self, text="Code:")
        self.code_label.pack()
        self.code_entry = tk.Text(self, height=10, width=50)
        self.code_entry.pack()
        
        self.language_label = ttk.Label(self, text="Language:")
        self.language_label.pack()
        self.language_entry = ttk.Entry(self)
        self.language_entry.pack()
        
        self.submit_button = ttk.Button(self, text="Submit", command=self.submit)
        self.submit_button.pack()
        
    def submit(self):
        title = self.title_entry.get()
        code = self.code_entry.get("1.0", tk.END)
        language = self.language_entry.get()
        meta = datetime.datetime.now().strftime("%Y-%m-%d %H:%M:%S")
        
        snippet_dict = {
            "title": title,
            "code": code,
            "language": language,
            "meta": meta,
            "edit_history": []
        }
        
        new_snippet = Snippet(snippet_dict)
        self.snippets.append(new_snippet)
        print(self.snippets)
        return None
    
class Snippet():
    def __init__(self, snippet_dict):
        self.title = snippet_dict["title"]
        self.code = snippet_dict["code"]
        self.language = snippet_dict["language"]
        self.meta = snippet_dict["meta"]
        self.edit_history = snippet_dict.get("edit_history", [])

    " # main execution\n",
    "\n",
    "if __name__ == '__main__':\n",
    "    \n",
    "    main_window = MainWindow()  # this creates a notebook / main window called main_window. You may change the name if you want\n",
    "\n",
    "    # Creating three notes\n",
    "    note1 = MakeNote({\n",
    "        \"title\": \"Python Basics\",\n",
    "        \"text\": \"Python is a high-level programming language known for its simplicity and readability.\",\n",
    "        \"link\": \"https://www.python.org/\",\n",
    "        \"tags\": \"Python, Programming\",\n",
    "        \"meta\": datetime.datetime.now().strftime(\"%Y-%m-%d %H:%M:%S\")\n",
    "    })\n",
    "\n",
    "    note2 = MakeNote({\n",
    "        \"title\": \"Lists in Python\",\n",
    "        \"text\": \"Lists are a basic data structure in Python, used to store multiple items in a single variable.\",\n",
    "        \"link\": \"\",\n",
    "        \"tags\": \"Python, Lists\",\n",
    "        \"meta\": datetime.datetime.now().strftime(\"%Y-%m-%d %H:%M:%S\")\n",
    "    })\n",
    "\n",
    "    note3 = MakeNote({\n",
    "        \"title\": \"Functions in Python\",\n",
    "        \"text\": \"Functions are a block of reusable code that performs a specific task.\",\n",
    "        \"link\": \"\",\n",
    "        \"tags\": \"Python, Functions\",\n",
    "        \"meta\": datetime.datetime.now().strftime(\"%Y-%m-%d %H:%M:%S\")\n",
    "    })\n",
    "\n",
    "    # Appending notes to the list\n",
    "    main_window.notes.extend([note1, note2, note3])\n",
    "\n",
    "    main_window.mainloop()"
   ]
  },
  {
   "cell_type": "markdown",
   "id": "c50d5149",
   "metadata": {},
   "source": [
    "#### Print your three notes below"
   ]
  },
  {
   "cell_type": "code",
   "execution_count": 8,
   "id": "dd1811bf",
   "metadata": {},
   "outputs": [
    {
     "name": "stdout",
     "output_type": "stream",
     "text": [
      "Printing Notes:\n",
      "Title: Python Basics\n",
      "Text: Python is a high-level programming language known for its simplicity and readability.\n",
      "Link: https://www.python.org/\n",
      "Tags: Python, Programming\n",
      "Meta: 2024-03-27 16:38:05\n",
      "Title: Lists in Python\n",
      "Text: Lists are a basic data structure in Python, used to store multiple items in a single variable.\n",
      "Link: \n",
      "Tags: Python, Lists\n",
      "Meta: 2024-03-27 16:38:05\n",
      "Title: Functions in Python\n",
      "Text: Functions are a block of reusable code that performs a specific task.\n",
      "Link: \n",
      "Tags: Python, Functions\n",
      "Meta: 2024-03-27 16:38:05\n"
     ]
    }
   ],
   "source": [
    "# print your notes here\n",
    "print(\"Printing Notes:\")\n",
    "for note in main_window.notes:\n",
    "    print(\"Title:\", note.title)\n",
    "    print(\"Text:\", note.text)\n",
    "    print(\"Link:\", note.link)\n",
    "    print(\"Tags:\", note.tags)\n",
    "    print(\"Meta:\", note.meta)\n"
   ]
  }
 ],
 "metadata": {
  "kernelspec": {
   "display_name": "Python 3 (ipykernel)",
   "language": "python",
   "name": "python3"
  },
  "language_info": {
   "codemirror_mode": {
    "name": "ipython",
    "version": 3
   },
   "file_extension": ".py",
   "mimetype": "text/x-python",
   "name": "python",
   "nbconvert_exporter": "python",
   "pygments_lexer": "ipython3",
   "version": "3.9.13"
  }
 },
 "nbformat": 4,
 "nbformat_minor": 5
}


